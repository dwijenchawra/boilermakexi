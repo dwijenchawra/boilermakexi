{
 "cells": [
  {
   "cell_type": "code",
   "execution_count": 30,
   "id": "initial_id",
   "metadata": {
    "collapsed": true,
    "ExecuteTime": {
     "end_time": "2024-01-21T04:10:11.219976Z",
     "start_time": "2024-01-21T04:10:06.679200Z"
    }
   },
   "outputs": [
    {
     "name": "stderr",
     "output_type": "stream",
     "text": [
      "Special tokens have been added in the vocabulary, make sure the associated word embeddings are fine-tuned or trained.\n"
     ]
    }
   ],
   "source": [
    "from PIL import Image\n",
    "import requests\n",
    "from transformers import AutoProcessor, Kosmos2ForConditionalGeneration\n",
    "\n",
    "model = Kosmos2ForConditionalGeneration.from_pretrained(\"microsoft/kosmos-2-patch14-224\")\n",
    "processor = AutoProcessor.from_pretrained(\"microsoft/kosmos-2-patch14-224\")\n"
   ]
  },
  {
   "cell_type": "code",
   "outputs": [],
   "source": [
    "img = Image.open(r\"/Users/alexiy/Projects/boilermakexi/VLM/raw_pinch.png\") "
   ],
   "metadata": {
    "collapsed": false,
    "ExecuteTime": {
     "end_time": "2024-01-21T04:10:11.222487Z",
     "start_time": "2024-01-21T04:10:11.219885Z"
    }
   },
   "id": "89ee2487fba06e33",
   "execution_count": 31
  },
  {
   "cell_type": "code",
   "outputs": [],
   "source": [
    "f = open(\"/Users/alexiy/Projects/boilermakexi/VLM/hand_prompt.txt\", \"r\")\n",
    "prompt = f.read()\n",
    "\n",
    "inputs = processor(text=prompt, images=img, return_tensors=\"pt\")\n",
    "\n",
    "generated_ids = model.generate(\n",
    "    pixel_values=inputs[\"pixel_values\"],\n",
    "    input_ids=inputs[\"input_ids\"],\n",
    "    attention_mask=inputs[\"attention_mask\"],\n",
    "    image_embeds=None,\n",
    "    image_embeds_position_mask=inputs[\"image_embeds_position_mask\"],\n",
    "    use_cache=True,\n",
    "    max_new_tokens=64,\n",
    ")"
   ],
   "metadata": {
    "collapsed": false,
    "ExecuteTime": {
     "end_time": "2024-01-21T04:10:17.489598Z",
     "start_time": "2024-01-21T04:10:11.223324Z"
    }
   },
   "id": "bdfd7cbca79fa85",
   "execution_count": 32
  },
  {
   "cell_type": "code",
   "outputs": [
    {
     "name": "stdout",
     "output_type": "stream",
     "text": [
      "###Instruction### You are a language model helping the elderly interact with technology through hand gestures. ###Question### Provide a long description of the hand. Focus on both the hand pose and the motion of the hand. Think step by step. Use works such as pinching, zooming, pointing. Describe the positions of each finger in the image. ###Response### The elderly man is holding up his hand in a \"L\" shape.\n"
     ]
    }
   ],
   "source": [
    "generated_text = processor.batch_decode(generated_ids, skip_special_tokens=True)[0]\n",
    "processed_text = processor.post_process_generation(generated_text, cleanup_and_extract=False)\n",
    "caption, entities = processor.post_process_generation(generated_text)\n",
    "\n",
    "print(caption)\n"
   ],
   "metadata": {
    "collapsed": false,
    "ExecuteTime": {
     "end_time": "2024-01-21T04:10:17.494979Z",
     "start_time": "2024-01-21T04:10:17.490377Z"
    }
   },
   "id": "ba03d44bdafa9889",
   "execution_count": 33
  },
  {
   "cell_type": "code",
   "outputs": [],
   "source": [],
   "metadata": {
    "collapsed": false,
    "ExecuteTime": {
     "end_time": "2024-01-21T04:10:17.495341Z",
     "start_time": "2024-01-21T04:10:17.493893Z"
    }
   },
   "id": "77a5ddb52541d1a",
   "execution_count": 33
  },
  {
   "cell_type": "code",
   "outputs": [],
   "source": [],
   "metadata": {
    "collapsed": false
   },
   "id": "ba724020ef05aaca"
  }
 ],
 "metadata": {
  "kernelspec": {
   "display_name": "Python 3",
   "language": "python",
   "name": "python3"
  },
  "language_info": {
   "codemirror_mode": {
    "name": "ipython",
    "version": 2
   },
   "file_extension": ".py",
   "mimetype": "text/x-python",
   "name": "python",
   "nbconvert_exporter": "python",
   "pygments_lexer": "ipython2",
   "version": "2.7.6"
  }
 },
 "nbformat": 4,
 "nbformat_minor": 5
}
