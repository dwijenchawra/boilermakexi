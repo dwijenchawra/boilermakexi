{
 "cells": [
  {
   "cell_type": "code",
   "execution_count": 32,
   "id": "initial_id",
   "metadata": {
    "collapsed": true,
    "ExecuteTime": {
     "end_time": "2024-01-21T03:43:09.934564Z",
     "start_time": "2024-01-21T03:43:05.515767Z"
    }
   },
   "outputs": [
    {
     "name": "stderr",
     "output_type": "stream",
     "text": [
      "Special tokens have been added in the vocabulary, make sure the associated word embeddings are fine-tuned or trained.\n"
     ]
    }
   ],
   "source": [
    "from PIL import Image\n",
    "import requests\n",
    "from transformers import AutoProcessor, Kosmos2ForConditionalGeneration\n",
    "\n",
    "model = Kosmos2ForConditionalGeneration.from_pretrained(\"microsoft/kosmos-2-patch14-224\")\n",
    "processor = AutoProcessor.from_pretrained(\"microsoft/kosmos-2-patch14-224\")\n"
   ]
  },
  {
   "cell_type": "code",
   "outputs": [],
   "source": [
    "img = Image.open(r\"/Users/alexiy/Projects/boilermakexi/VLM/compisition.png\") "
   ],
   "metadata": {
    "collapsed": false,
    "ExecuteTime": {
     "end_time": "2024-01-21T03:43:10.562880Z",
     "start_time": "2024-01-21T03:43:10.558867Z"
    }
   },
   "id": "89ee2487fba06e33",
   "execution_count": 33
  },
  {
   "cell_type": "code",
   "outputs": [],
   "source": [
    "f = open(\"/Users/alexiy/Projects/boilermakexi/VLM/prompt.txt\", \"r\")\n",
    "prompt = f.read()\n",
    "\n",
    "inputs = processor(text=prompt, images=img, return_tensors=\"pt\")\n",
    "\n",
    "generated_ids = model.generate(\n",
    "    pixel_values=inputs[\"pixel_values\"],\n",
    "    input_ids=inputs[\"input_ids\"],\n",
    "    attention_mask=inputs[\"attention_mask\"],\n",
    "    image_embeds=None,\n",
    "    image_embeds_position_mask=inputs[\"image_embeds_position_mask\"],\n",
    "    use_cache=True,\n",
    "    max_new_tokens=64,\n",
    ")"
   ],
   "metadata": {
    "collapsed": false,
    "ExecuteTime": {
     "end_time": "2024-01-21T03:49:04.151403Z",
     "start_time": "2024-01-21T03:48:59.493459Z"
    }
   },
   "id": "bdfd7cbca79fa85",
   "execution_count": 39
  },
  {
   "cell_type": "code",
   "outputs": [
    {
     "data": {
      "text/plain": "' ###Instruction### You are a language model helping the elderly interact with technology through hand gestures.<grounding> This is a collection of three frames sticked together ###Question#### Describe the motion of the hand as it moves through the frames starting at the top frame and ending at the bottom. Focus on both the hand pose and the motion of the hand. Think step by step. ###Response### The hand is moving through the frame, and it is making a hand gesture.'"
     },
     "execution_count": 40,
     "metadata": {},
     "output_type": "execute_result"
    }
   ],
   "source": [
    "generated_text = processor.batch_decode(generated_ids, skip_special_tokens=True)[0]\n",
    "processed_text = processor.post_process_generation(generated_text, cleanup_and_extract=False)\n",
    "processed_text"
   ],
   "metadata": {
    "collapsed": false,
    "ExecuteTime": {
     "end_time": "2024-01-21T03:49:06.306580Z",
     "start_time": "2024-01-21T03:49:06.303004Z"
    }
   },
   "id": "ba03d44bdafa9889",
   "execution_count": 40
  },
  {
   "cell_type": "code",
   "outputs": [],
   "source": [
    "caption, entities = processor.post_process_generation(generated_text)"
   ],
   "metadata": {
    "collapsed": false,
    "ExecuteTime": {
     "end_time": "2024-01-21T03:49:10.054301Z",
     "start_time": "2024-01-21T03:49:10.050982Z"
    }
   },
   "id": "5343980e6185a1fe",
   "execution_count": 41
  },
  {
   "cell_type": "code",
   "outputs": [
    {
     "data": {
      "text/plain": "'###Instruction### You are a language model helping the elderly interact with technology through hand gestures. This is a collection of three frames sticked together ###Question#### Describe the motion of the hand as it moves through the frames starting at the top frame and ending at the bottom. Focus on both the hand pose and the motion of the hand. Think step by step. ###Response### The hand is moving through the frame, and it is making a hand gesture.'"
     },
     "execution_count": 42,
     "metadata": {},
     "output_type": "execute_result"
    }
   ],
   "source": [
    "caption"
   ],
   "metadata": {
    "collapsed": false,
    "ExecuteTime": {
     "end_time": "2024-01-21T03:49:10.767803Z",
     "start_time": "2024-01-21T03:49:10.764786Z"
    }
   },
   "id": "3575aa32812a7b39",
   "execution_count": 42
  },
  {
   "cell_type": "code",
   "outputs": [],
   "source": [],
   "metadata": {
    "collapsed": false
   },
   "id": "77ed82f3dbfe10e8"
  }
 ],
 "metadata": {
  "kernelspec": {
   "display_name": "Python 3",
   "language": "python",
   "name": "python3"
  },
  "language_info": {
   "codemirror_mode": {
    "name": "ipython",
    "version": 2
   },
   "file_extension": ".py",
   "mimetype": "text/x-python",
   "name": "python",
   "nbconvert_exporter": "python",
   "pygments_lexer": "ipython2",
   "version": "2.7.6"
  }
 },
 "nbformat": 4,
 "nbformat_minor": 5
}
